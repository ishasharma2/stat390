{
 "cells": [
  {
   "cell_type": "code",
   "execution_count": 205,
   "id": "88342122",
   "metadata": {},
   "outputs": [
    {
     "name": "stderr",
     "output_type": "stream",
     "text": [
      "/var/folders/t9/_x5y2dys63b6nz3nw8l_vrsh0000gn/T/ipykernel_7729/3193876165.py:16: DtypeWarning: Columns (14,28,37,38) have mixed types. Specify dtype option on import or set low_memory=False.\n",
      "  data = pd.read_csv('convert_MCMF_ALL_TIME_DATA.csv', sep=\"\\t\")\n"
     ]
    },
    {
     "data": {
      "text/html": [
       "<div>\n",
       "<style scoped>\n",
       "    .dataframe tbody tr th:only-of-type {\n",
       "        vertical-align: middle;\n",
       "    }\n",
       "\n",
       "    .dataframe tbody tr th {\n",
       "        vertical-align: top;\n",
       "    }\n",
       "\n",
       "    .dataframe thead th {\n",
       "        text-align: right;\n",
       "    }\n",
       "</style>\n",
       "<table border=\"1\" class=\"dataframe\">\n",
       "  <thead>\n",
       "    <tr style=\"text-align: right;\">\n",
       "      <th></th>\n",
       "      <th>IndexRow</th>\n",
       "      <th>Id</th>\n",
       "      <th>Logo Url</th>\n",
       "      <th>Program Name</th>\n",
       "      <th>Description</th>\n",
       "      <th>Org Name</th>\n",
       "      <th>Category Name</th>\n",
       "      <th>Capacity</th>\n",
       "      <th>Min Age</th>\n",
       "      <th>Max Age</th>\n",
       "      <th>...</th>\n",
       "      <th>Contact Email</th>\n",
       "      <th>Contact Phone</th>\n",
       "      <th>Program Price</th>\n",
       "      <th>Geographic Cluster Name</th>\n",
       "      <th>Program Pays Participants</th>\n",
       "      <th>Program Has Scholarships</th>\n",
       "      <th>Program Provides Transportation</th>\n",
       "      <th>Latitude</th>\n",
       "      <th>Longitude</th>\n",
       "      <th>Program Provides Free Food</th>\n",
       "    </tr>\n",
       "  </thead>\n",
       "  <tbody>\n",
       "    <tr>\n",
       "      <th>0</th>\n",
       "      <td>4,568</td>\n",
       "      <td>78752</td>\n",
       "      <td>NaN</td>\n",
       "      <td>BBBS Community Based Mentoring (Year Round)</td>\n",
       "      <td>Community Based Mentoring is the traditional B...</td>\n",
       "      <td>Big Brothers Big Sisters</td>\n",
       "      <td>Academic Support</td>\n",
       "      <td>2000.0</td>\n",
       "      <td>7</td>\n",
       "      <td>15</td>\n",
       "      <td>...</td>\n",
       "      <td>recruitment@bbbschgo.org</td>\n",
       "      <td>NaN</td>\n",
       "      <td>Free</td>\n",
       "      <td>NEAR WEST SIDE</td>\n",
       "      <td>Not Paid</td>\n",
       "      <td>YES</td>\n",
       "      <td>YES</td>\n",
       "      <td>41.886002</td>\n",
       "      <td>-87.642403</td>\n",
       "      <td>False</td>\n",
       "    </tr>\n",
       "    <tr>\n",
       "      <th>1</th>\n",
       "      <td>4,569</td>\n",
       "      <td>78752</td>\n",
       "      <td>NaN</td>\n",
       "      <td>BBBS Community Based Mentoring (Year Round)</td>\n",
       "      <td>Community Based Mentoring is the traditional B...</td>\n",
       "      <td>Big Brothers Big Sisters</td>\n",
       "      <td>Work + Career</td>\n",
       "      <td>2000.0</td>\n",
       "      <td>7</td>\n",
       "      <td>15</td>\n",
       "      <td>...</td>\n",
       "      <td>recruitment@bbbschgo.org</td>\n",
       "      <td>NaN</td>\n",
       "      <td>Free</td>\n",
       "      <td>NEAR WEST SIDE</td>\n",
       "      <td>Not Paid</td>\n",
       "      <td>YES</td>\n",
       "      <td>YES</td>\n",
       "      <td>41.886002</td>\n",
       "      <td>-87.642403</td>\n",
       "      <td>False</td>\n",
       "    </tr>\n",
       "    <tr>\n",
       "      <th>2</th>\n",
       "      <td>4,562</td>\n",
       "      <td>78749</td>\n",
       "      <td>https://cityoflearning-uploads.s3.amazonaws.co...</td>\n",
       "      <td>Youth Mentoring and Academic Supports</td>\n",
       "      <td>Young Men's Educational Network provides mento...</td>\n",
       "      <td>Youth Mentoring and Academic Supports</td>\n",
       "      <td>Academic Support</td>\n",
       "      <td>100.0</td>\n",
       "      <td>12</td>\n",
       "      <td>18</td>\n",
       "      <td>...</td>\n",
       "      <td>wchatman@ymenchicago.com</td>\n",
       "      <td>NaN</td>\n",
       "      <td>Free</td>\n",
       "      <td>NORTH LAWNDALE</td>\n",
       "      <td>Not Paid</td>\n",
       "      <td>NO</td>\n",
       "      <td>NO</td>\n",
       "      <td>41.864799</td>\n",
       "      <td>-87.724800</td>\n",
       "      <td>True</td>\n",
       "    </tr>\n",
       "    <tr>\n",
       "      <th>3</th>\n",
       "      <td>4,563</td>\n",
       "      <td>78749</td>\n",
       "      <td>https://cityoflearning-uploads.s3.amazonaws.co...</td>\n",
       "      <td>Youth Mentoring and Academic Supports</td>\n",
       "      <td>Young Men's Educational Network provides mento...</td>\n",
       "      <td>Youth Mentoring and Academic Supports</td>\n",
       "      <td>Music &amp; Art.</td>\n",
       "      <td>100.0</td>\n",
       "      <td>12</td>\n",
       "      <td>18</td>\n",
       "      <td>...</td>\n",
       "      <td>wchatman@ymenchicago.com</td>\n",
       "      <td>NaN</td>\n",
       "      <td>Free</td>\n",
       "      <td>NORTH LAWNDALE</td>\n",
       "      <td>Not Paid</td>\n",
       "      <td>NO</td>\n",
       "      <td>NO</td>\n",
       "      <td>41.864799</td>\n",
       "      <td>-87.724800</td>\n",
       "      <td>True</td>\n",
       "    </tr>\n",
       "    <tr>\n",
       "      <th>4</th>\n",
       "      <td>4,557</td>\n",
       "      <td>78746</td>\n",
       "      <td>https://cityoflearning-uploads.s3.amazonaws.co...</td>\n",
       "      <td>Refugee Youth Career Pathways</td>\n",
       "      <td>Refugee Youth Career Pathways (RYCP) provides ...</td>\n",
       "      <td>RefugeeOne</td>\n",
       "      <td>Managing Money.</td>\n",
       "      <td>15.0</td>\n",
       "      <td>16</td>\n",
       "      <td>24</td>\n",
       "      <td>...</td>\n",
       "      <td>NaN</td>\n",
       "      <td>NaN</td>\n",
       "      <td>Free</td>\n",
       "      <td>NaN</td>\n",
       "      <td>Not Paid</td>\n",
       "      <td>YES</td>\n",
       "      <td>YES</td>\n",
       "      <td>NaN</td>\n",
       "      <td>NaN</td>\n",
       "      <td>False</td>\n",
       "    </tr>\n",
       "  </tbody>\n",
       "</table>\n",
       "<p>5 rows × 56 columns</p>\n",
       "</div>"
      ],
      "text/plain": [
       "  IndexRow     Id                                           Logo Url  \\\n",
       "0    4,568  78752                                                NaN   \n",
       "1    4,569  78752                                                NaN   \n",
       "2    4,562  78749  https://cityoflearning-uploads.s3.amazonaws.co...   \n",
       "3    4,563  78749  https://cityoflearning-uploads.s3.amazonaws.co...   \n",
       "4    4,557  78746  https://cityoflearning-uploads.s3.amazonaws.co...   \n",
       "\n",
       "                                  Program Name  \\\n",
       "0  BBBS Community Based Mentoring (Year Round)   \n",
       "1  BBBS Community Based Mentoring (Year Round)   \n",
       "2        Youth Mentoring and Academic Supports   \n",
       "3        Youth Mentoring and Academic Supports   \n",
       "4                Refugee Youth Career Pathways   \n",
       "\n",
       "                                         Description  \\\n",
       "0  Community Based Mentoring is the traditional B...   \n",
       "1  Community Based Mentoring is the traditional B...   \n",
       "2  Young Men's Educational Network provides mento...   \n",
       "3  Young Men's Educational Network provides mento...   \n",
       "4  Refugee Youth Career Pathways (RYCP) provides ...   \n",
       "\n",
       "                                Org Name     Category Name  Capacity  Min Age  \\\n",
       "0               Big Brothers Big Sisters  Academic Support    2000.0        7   \n",
       "1               Big Brothers Big Sisters    Work + Career     2000.0        7   \n",
       "2  Youth Mentoring and Academic Supports  Academic Support     100.0       12   \n",
       "3  Youth Mentoring and Academic Supports      Music & Art.     100.0       12   \n",
       "4                             RefugeeOne   Managing Money.      15.0       16   \n",
       "\n",
       "   Max Age  ...             Contact Email Contact Phone Program Price  \\\n",
       "0       15  ...  recruitment@bbbschgo.org           NaN          Free   \n",
       "1       15  ...  recruitment@bbbschgo.org           NaN          Free   \n",
       "2       18  ...  wchatman@ymenchicago.com           NaN          Free   \n",
       "3       18  ...  wchatman@ymenchicago.com           NaN          Free   \n",
       "4       24  ...                       NaN           NaN          Free   \n",
       "\n",
       "  Geographic Cluster Name Program Pays Participants Program Has Scholarships  \\\n",
       "0          NEAR WEST SIDE                  Not Paid                      YES   \n",
       "1          NEAR WEST SIDE                  Not Paid                      YES   \n",
       "2          NORTH LAWNDALE                  Not Paid                       NO   \n",
       "3          NORTH LAWNDALE                  Not Paid                       NO   \n",
       "4                     NaN                  Not Paid                      YES   \n",
       "\n",
       "  Program Provides Transportation   Latitude  Longitude  \\\n",
       "0                             YES  41.886002 -87.642403   \n",
       "1                             YES  41.886002 -87.642403   \n",
       "2                              NO  41.864799 -87.724800   \n",
       "3                              NO  41.864799 -87.724800   \n",
       "4                             YES        NaN        NaN   \n",
       "\n",
       "  Program Provides Free Food  \n",
       "0                      False  \n",
       "1                      False  \n",
       "2                       True  \n",
       "3                       True  \n",
       "4                      False  \n",
       "\n",
       "[5 rows x 56 columns]"
      ]
     },
     "execution_count": 205,
     "metadata": {},
     "output_type": "execute_result"
    }
   ],
   "source": [
    "# import packages\n",
    "import pandas as pd\n",
    "import seaborn as sns\n",
    "import numpy as np\n",
    "import matplotlib.pyplot as plt\n",
    "import matplotlib as mpl\n",
    "mpl.rcParams.update(mpl.rcParamsDefault)\n",
    "#import geopandas as gpd\n",
    "import urllib.request\n",
    "import json\n",
    "#import folium\n",
    "from IPython.display import Image\n",
    "#import contextily as ctx\n",
    "from matplotlib.colors import ListedColormap\n",
    "# load data\n",
    "data = pd.read_csv('convert_MCMF_ALL_TIME_DATA.csv', sep=\"\\t\")\n",
    "data.head()"
   ]
  },
  {
   "cell_type": "code",
   "execution_count": 206,
   "id": "4f5294c7",
   "metadata": {},
   "outputs": [
    {
     "data": {
      "text/plain": [
       "84878"
      ]
     },
     "execution_count": 206,
     "metadata": {},
     "output_type": "execute_result"
    }
   ],
   "source": [
    "len(data)"
   ]
  },
  {
   "cell_type": "code",
   "execution_count": 272,
   "id": "78bd02fd",
   "metadata": {},
   "outputs": [],
   "source": [
    "# get rid of some columns we may not need (for now)\n",
    "clean_data = data[data['Min Age'] <= 25]\n",
    "\n",
    "# len(clean_data): 84606\n",
    "\n",
    "cols_to_drop = ['Logo Url', 'Contact Phone', 'Registration Open', 'Registration Deadline', 'Registration Url', \n",
    "                'Program Url', 'Online Address', 'Address', 'State', 'Contact Name', \n",
    "                'Contact Email', 'Contact Phone', 'City']\n",
    "\n",
    "# Drop the columns from the DataFrame\n",
    "clean_data = clean_data.drop(columns=cols_to_drop)\n",
    "\n",
    "clean_data['Geographic Cluster Name'] = clean_data['Geographic Cluster Name'].replace(\n",
    "    ['AUSTIN','NORTH LAWNDALE','HUMBOLDT PARK', 'EAST GARFIELD PARK','WEST PULLMAN','ENGLEWOOD','AUBURN GRESHAM','WEST GARFIELD PARK',     'ROSELAND','GREATER GRAND CROSSING','WEST ENGLEWOOD','SOUTH SHORE','NEW CITY','CHICAGO LAWN','SOUTH LAWNDALE','ENGLEWOOD'],\n",
    "    ['*AUSTIN','*NORTH LAWNDALE','*HUMBOLDT PARK', '*EAST GARFIELD PARK','*WEST PULLMAN','*ENGLEWOOD','*AUBURN GRESHAM','*WEST GARFIELD PARK',     '*ROSELAND','*GREATER GRAND CROSSING','*WEST ENGLEWOOD','*SOUTH SHORE','*NEW CITY','*CHICAGO LAWN','*SOUTH LAWNDALE','*ENGLEWOOD'])\n",
    "\n"
   ]
  },
  {
   "cell_type": "code",
   "execution_count": null,
   "id": "61038570",
   "metadata": {},
   "outputs": [],
   "source": []
  },
  {
   "cell_type": "code",
   "execution_count": 273,
   "id": "a230f506",
   "metadata": {},
   "outputs": [],
   "source": [
    "clean_data['Start Date'] = pd.to_datetime(clean_data['Start Date'], format='%m/%d/%y')\n",
    "\n",
    "months = clean_data['Start Date'].dt.month\n",
    "\n",
    "seasons = []\n",
    "for month in months:\n",
    "    if month in [12, 1, 2]:\n",
    "        seasons.append('winter')\n",
    "    elif month in [3, 4, 5]:\n",
    "        seasons.append('spring')\n",
    "    elif month in [6, 7, 8]:\n",
    "        seasons.append('summer')\n",
    "    else:\n",
    "        seasons.append('fall')"
   ]
  },
  {
   "cell_type": "code",
   "execution_count": 289,
   "id": "21a1c2a9",
   "metadata": {},
   "outputs": [
    {
     "name": "stdout",
     "output_type": "stream",
     "text": [
      "39\n",
      "17\n",
      "0\n",
      "17\n",
      "27\n",
      "26\n",
      "12\n",
      "16\n",
      "14\n",
      "44\n",
      "60\n",
      "28\n",
      "21\n",
      "15\n",
      "23\n",
      "15\n",
      "21\n",
      "14\n",
      "10\n",
      "13\n",
      "20\n",
      "17\n",
      "19\n",
      "20\n",
      "16\n",
      "17\n",
      "13\n",
      "14\n",
      "20\n",
      "23\n",
      "21\n",
      "15\n",
      "10\n",
      "12\n",
      "16\n",
      "20\n",
      "19\n",
      "22\n",
      "20\n",
      "15\n",
      "17\n",
      "24\n",
      "12\n",
      "16\n",
      "11\n",
      "11\n",
      "36\n",
      "17\n",
      "12\n",
      "22\n",
      "13\n",
      "12\n",
      "15\n",
      "18\n",
      "22\n",
      "11\n",
      "18\n",
      "15\n",
      "13\n",
      "16\n",
      "17\n",
      "17\n",
      "16\n",
      "20\n",
      "11\n",
      "9\n",
      "15\n",
      "28\n",
      "19\n",
      "13\n",
      "25\n",
      "9\n",
      "18\n",
      "18\n",
      "11\n",
      "11\n",
      "6\n",
      "2\n",
      "4\n",
      "1\n"
     ]
    }
   ],
   "source": [
    "clusters = clean_data['Geographic Cluster Name'].unique()\n",
    "num_programs_list = []\n",
    "\n",
    "# Loop through each cluster and count the unique 'Program Name' values\n",
    "for cluster in clusters:\n",
    "    # Filter the data for the current cluster\n",
    "    cluster_data = clean_data[clean_data['Geographic Cluster Name'] == cluster]\n",
    "    \n",
    "    # Group the data by 'Program Name'\n",
    "    grouped_data = cluster_data.groupby(['Program Name'])\n",
    "    \n",
    "    # Count the number of unique 'Program Name' values\n",
    "    num_programs = grouped_data.size().reset_index(name='count')['count'].nunique()\n",
    "    \n",
    "    # Append the number of unique 'Program Name' values to the list\n",
    "    num_programs_list.append(num_programs)"
   ]
  },
  {
   "cell_type": "code",
   "execution_count": null,
   "id": "4af961e8",
   "metadata": {},
   "outputs": [],
   "source": []
  },
  {
   "cell_type": "code",
   "execution_count": 311,
   "id": "131dda8e",
   "metadata": {},
   "outputs": [
    {
     "data": {
      "image/png": "[encoded data removed]",
      "text/plain": [
       "<Figure size 200x300 with 1 Axes>"
      ]
     },
     "metadata": {
      "needs_background": "light"
     },
     "output_type": "display_data"
    }
   ],
   "source": [
    "num_programs_array = np.array(num_programs_list)\n",
    "\n",
    "#Find the 10 clusters with the most programs\n",
    "top_indices = np.argsort(-num_programs_array)[:5]\n",
    "\n",
    "#Graph the 10 clusters with the most programs\n",
    "plt.figure(figsize=(2,3), facecolor = 'none')\n",
    "plt.bar(data=data.reset_index(), x=clusters[top_indices], height=num_programs_array[top_indices].tolist(), color=colors)\n",
    "plt.xticks(rotation=45, ha='right')\n",
    "plt.ylim(0, 65)\n",
    "plt.show()\n",
    "\n",
    "\n",
    "\n"
   ]
  },
  {
   "cell_type": "code",
   "execution_count": 312,
   "id": "cb21e205",
   "metadata": {},
   "outputs": [],
   "source": [
    "colors = ['#1f77b4', '#ff7f0e', '#2ca02c', '#d62728', '#9467bd', '#8c564b', '#e377c2', '#7f7f7f', '#bcbd22', '#17becf']"
   ]
  },
  {
   "cell_type": "code",
   "execution_count": 316,
   "id": "ff1fe60e",
   "metadata": {},
   "outputs": [
    {
     "data": {
      "image/png": "[encoded data removed]",
      "text/plain": [
       "<Figure size 600x300 with 1 Axes>"
      ]
     },
     "metadata": {
      "needs_background": "light"
     },
     "output_type": "display_data"
    }
   ],
   "source": [
    "#Graph the 20 target clusters (according to MCMF) and their number of programs\n",
    "plt.figure(figsize=(6,3), facecolor = 'none')\n",
    "plt.bar(data=data.reset_index(), x=clusters[target_indices], height=num_programs_array[target_indices].tolist(), color=colors)\n",
    "plt.xticks(rotation=45, ha='right')\n",
    "plt.ylim(0, 65)\n",
    "plt.gca().yaxis.set_major_locator(plt.NullLocator())\n",
    "plt.show()"
   ]
  },
  {
   "cell_type": "code",
   "execution_count": 315,
   "id": "3d8d36ba",
   "metadata": {
    "scrolled": true
   },
   "outputs": [
    {
     "data": {
      "image/png": "[encoded data removed]",
      "text/plain": [
       "<Figure size 200x300 with 1 Axes>"
      ]
     },
     "metadata": {
      "needs_background": "light"
     },
     "output_type": "display_data"
    }
   ],
   "source": [
    "#Find the 10 clusters with the least programs\n",
    "bottom_indices = np.argsort(num_programs_array)[:6]\n",
    "\n",
    "#Graph the 10 clusters with the fewest programs\n",
    "plt.figure(figsize=(2,3), facecolor = 'none')\n",
    "plt.bar(data = data.reset_index(), x = (np.flip(clusters[bottom_indices]).astype(str))[:-1], \n",
    "        height = np.flip(num_programs_array[bottom_indices]).tolist()[:-1], color = colors)\n",
    "plt.xticks(rotation=45, ha='right')\n",
    "plt.ylim(0, 65)\n",
    "plt.gca().yaxis.set_major_locator(plt.NullLocator())\n",
    "plt.show()"
   ]
  },
  {
   "cell_type": "code",
   "execution_count": 305,
   "id": "cf471210",
   "metadata": {},
   "outputs": [
    {
     "name": "stdout",
     "output_type": "stream",
     "text": [
      "*NORTH LAWNDALE\n",
      "1\n",
      "*ROSELAND\n",
      "3\n",
      "*AUSTIN\n",
      "12\n",
      "*EAST GARFIELD PARK\n",
      "13\n",
      "*WEST GARFIELD PARK\n",
      "16\n",
      "*WEST PULLMAN\n",
      "24\n",
      "*SOUTH SHORE\n",
      "39\n",
      "*AUBURN GRESHAM\n",
      "43\n",
      "*GREATER GRAND CROSSING\n",
      "48\n",
      "*ENGLEWOOD\n",
      "51\n",
      "*WEST ENGLEWOOD\n",
      "58\n",
      "*CHICAGO LAWN\n",
      "60\n",
      "*HUMBOLDT PARK\n",
      "73\n"
     ]
    }
   ],
   "source": [
    "targets = ['*AUSTIN','*NORTH LAWNDALE','*HUMBOLDT PARK', '*EAST GARFIELD PARK','*WEST PULLMAN','*ENGLEWOOD',           \n",
    "           '*AUBURN GRESHAM','*WEST GARFIELD PARK','*ROSELAND','*GREATER GRAND CROSSING','*WEST ENGLEWOOD',\n",
    "           '*SOUTH SHORE','*NEW CITY','*CHICAGO LAWN','*SOUTH LAWNDALE']\n",
    "i = 0\n",
    "target_indices = []\n",
    "while i < len(clusters.tolist()):\n",
    "    if clusters.tolist()[i] in targets:\n",
    "        target_indices.append(i)\n",
    "        print(clusters.tolist()[i])\n",
    "        print(i)\n",
    "        i += 1\n",
    "    else:\n",
    "        i += 1\n"
   ]
  },
  {
   "cell_type": "code",
   "execution_count": 306,
   "id": "e1981689",
   "metadata": {},
   "outputs": [
    {
     "data": {
      "text/plain": [
       "13"
      ]
     },
     "execution_count": 306,
     "metadata": {},
     "output_type": "execute_result"
    }
   ],
   "source": [
    "len(clusters[target_indices])"
   ]
  },
  {
   "cell_type": "code",
   "execution_count": null,
   "id": "0f32bc80",
   "metadata": {},
   "outputs": [],
   "source": []
  }
 ],
 "metadata": {
  "kernelspec": {
   "display_name": "Python 3 (ipykernel)",
   "language": "python",
   "name": "python3"
  },
  "language_info": {
   "codemirror_mode": {
    "name": "ipython",
    "version": 3
   },
   "file_extension": ".py",
   "mimetype": "text/x-python",
   "name": "python",
   "nbconvert_exporter": "python",
   "pygments_lexer": "ipython3",
   "version": "3.9.12"
  }
 },
 "nbformat": 4,
 "nbformat_minor": 5
}
